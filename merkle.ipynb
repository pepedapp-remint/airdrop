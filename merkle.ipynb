{
 "cells": [
  {
   "cell_type": "code",
   "execution_count": 92,
   "metadata": {},
   "outputs": [],
   "source": [
    "import csv\n",
    "import json\n",
    "\n",
    "from merkle import *"
   ]
  },
  {
   "cell_type": "code",
   "execution_count": 58,
   "metadata": {},
   "outputs": [],
   "source": [
    "with open('data/ownership.csv', 'r') as f:\n",
    "    reader = csv.reader(f)\n",
    "    ownership_tuples= list(reader)\n",
    "    \n",
    "index_tuples = []\n",
    "i = 0\n",
    "for t in ownership_tuples:\n",
    "    index_tuples.append([i, t[0], t[1], int(t[2])])\n",
    "    i += 1"
   ]
  },
  {
   "cell_type": "markdown",
   "metadata": {},
   "source": [
    "Ok, let's merkle tree up this list of leaves with keccak256 goodness\n",
    "\n",
    "Create a map of merkle leaf -> branch and store the root. Then serialize this entire object in json.\n",
    "\n",
    "Ah-ha! There's a way to do this in web3py: https://web3py.readthedocs.io/en/stable/web3.main.html?highlight=solidityKeccak#web3.Web3.solidityKeccak\n",
    "\n",
    "Merkle alg:\n",
    "- store leaf -> [branch]\n",
    "- store last_layer_node -> leaf\n",
    "- until len(last_layer) == 1\n",
    "  - hash pairs of last_layer to create new layer\n",
    "  - add other side of pair + new parent to branches[leaf[last_layer_node]]\n",
    "- return size 1 last_layer (root) + leaf -> [branch]"
   ]
  },
  {
   "cell_type": "code",
   "execution_count": 93,
   "metadata": {},
   "outputs": [],
   "source": [
    "tree = build_tree(index_tuples)"
   ]
  },
  {
   "cell_type": "markdown",
   "metadata": {},
   "source": [
    "Ok, now we should keep these somewhere handy. Next step is to *verify* each merkle branch. If any don't verify, note that somewhere.\n",
    "\n",
    "Let's just make sure they're all consistent as a final sanity check on today's work.\n",
    "\n",
    "Well.... shit. They don't match. It's the ordering thing! I need to have a standard ordering for the combination method. And this should be do-able within the contract as well!\n",
    "\n",
    "Sure enough, there's a openzepplin lib I can use for this and that lib sorts before combining: https://github.com/OpenZeppelin/openzeppelin-contracts/blob/master/contracts/cryptography/MerkleProof.sol#L15-L32"
   ]
  },
  {
   "cell_type": "code",
   "execution_count": 81,
   "metadata": {},
   "outputs": [],
   "source": [
    "leaf_to_branch = tree.leaf_to_branch\n",
    "root = tree.root"
   ]
  },
  {
   "cell_type": "code",
   "execution_count": 87,
   "metadata": {},
   "outputs": [],
   "source": [
    "for leaf, branch in leaf_to_branch.items():\n",
    "    if not check_branch(root, leaf, branch):\n",
    "        print(\"roots don't match!\")"
   ]
  },
  {
   "cell_type": "markdown",
   "metadata": {},
   "source": [
    "Success! Let's store the merkle data in json and prep it for sharing later."
   ]
  },
  {
   "cell_type": "code",
   "execution_count": 95,
   "metadata": {},
   "outputs": [],
   "source": [
    "with open('data/merkle_tree.json', 'w') as f:\n",
    "    json.dump(tree.jsonify(), f)"
   ]
  },
  {
   "cell_type": "code",
   "execution_count": null,
   "metadata": {},
   "outputs": [],
   "source": []
  }
 ],
 "metadata": {
  "kernelspec": {
   "display_name": "pepe_airdrop",
   "language": "python",
   "name": "pepe_airdrop"
  },
  "language_info": {
   "codemirror_mode": {
    "name": "ipython",
    "version": 3
   },
   "file_extension": ".py",
   "mimetype": "text/x-python",
   "name": "python",
   "nbconvert_exporter": "python",
   "pygments_lexer": "ipython3",
   "version": "3.8.3"
  }
 },
 "nbformat": 4,
 "nbformat_minor": 4
}
