{
 "cells": [
  {
   "cell_type": "code",
   "execution_count": 14,
   "metadata": {},
   "outputs": [],
   "source": [
    "import csv\n",
    "import json\n",
    "\n",
    "from merkle import *"
   ]
  },
  {
   "cell_type": "code",
   "execution_count": 15,
   "metadata": {},
   "outputs": [],
   "source": [
    "with open('data/ownership.csv', 'r') as f:\n",
    "    reader = csv.reader(f)\n",
    "    index_tuples = list(reader)"
   ]
  },
  {
   "cell_type": "markdown",
   "metadata": {},
   "source": [
    "Ok, let's merkle tree up this list of leaves with keccak256 goodness\n",
    "\n",
    "Create a map of merkle leaf -> branch and store the root. Then serialize this entire object in json.\n",
    "\n",
    "Ah-ha! There's a way to do this in web3py: https://web3py.readthedocs.io/en/stable/web3.main.html?highlight=solidityKeccak#web3.Web3.solidityKeccak\n",
    "\n",
    "Merkle alg:\n",
    "- store leaf -> [branch]\n",
    "- store last_layer_node -> leaf\n",
    "- until len(last_layer) == 1\n",
    "  - hash pairs of last_layer to create new layer\n",
    "  - add other side of pair + new parent to branches[leaf[last_layer_node]]\n",
    "- return size 1 last_layer (root) + leaf -> [branch]"
   ]
  },
  {
   "cell_type": "code",
   "execution_count": 16,
   "metadata": {},
   "outputs": [],
   "source": [
    "tree = build_tree(index_tuples)"
   ]
  },
  {
   "cell_type": "markdown",
   "metadata": {},
   "source": [
    "Ok, now we should keep these somewhere handy. Next step is to *verify* each merkle branch. If any don't verify, note that somewhere.\n",
    "\n",
    "Let's just make sure they're all consistent as a final sanity check on today's work.\n",
    "\n",
    "Well.... shit. They don't match. It's the ordering thing! I need to have a standard ordering for the combination method. And this should be do-able within the contract as well!\n",
    "\n",
    "Sure enough, there's a openzepplin lib I can use for this and that lib sorts before combining: https://github.com/OpenZeppelin/openzeppelin-contracts/blob/master/contracts/cryptography/MerkleProof.sol#L15-L32"
   ]
  },
  {
   "cell_type": "code",
   "execution_count": 17,
   "metadata": {},
   "outputs": [],
   "source": [
    "leaf_to_branch = tree.leaf_to_branch\n",
    "root = tree.root"
   ]
  },
  {
   "cell_type": "code",
   "execution_count": 18,
   "metadata": {},
   "outputs": [],
   "source": [
    "for leaf, branch in leaf_to_branch.items():\n",
    "    if not check_branch(root, leaf, branch):\n",
    "        print(\"roots don't match!\")"
   ]
  },
  {
   "cell_type": "markdown",
   "metadata": {},
   "source": [
    "Success! Let's store the merkle data in json and prep it for sharing later."
   ]
  },
  {
   "cell_type": "code",
   "execution_count": 19,
   "metadata": {},
   "outputs": [],
   "source": [
    "with open('data/merkle_tree.json', 'w') as f:\n",
    "    json.dump(tree.jsonify(), f)"
   ]
  },
  {
   "cell_type": "markdown",
   "metadata": {},
   "source": [
    "Misc scratch work:"
   ]
  },
  {
   "cell_type": "code",
   "execution_count": 7,
   "metadata": {},
   "outputs": [
    {
     "data": {
      "text/plain": [
       "'c2fd78394ac23461309bcad6b514dfa259a7b5db18fc2b2b08d53ea1451d0491'"
      ]
     },
     "execution_count": 7,
     "metadata": {},
     "output_type": "execute_result"
    }
   ],
   "source": [
    "b = hash_leaf((1,'0x01465b5a079a742e66ef3e6184ef6d125eaa1de8201339cf32503c32ac1624e8','0x433A15f56e95Ee632dc690C032B5B2F7de447446',33))\n",
    "b.hex()\n",
    "\n",
    "b2 = hash_leaf((2912,'0xfdace08abdccfb2ab62a6f0fd964bc1e51419ae4df69f473f2ed2738d8280443','0xf7dBFe7dcFBA501464008554e7c5EddE8ab7B0ff',27))\n",
    "b2.hex()"
   ]
  },
  {
   "cell_type": "code",
   "execution_count": null,
   "metadata": {},
   "outputs": [],
   "source": []
  }
 ],
 "metadata": {
  "kernelspec": {
   "display_name": "pepe_airdrop",
   "language": "python",
   "name": "pepe_airdrop"
  },
  "language_info": {
   "codemirror_mode": {
    "name": "ipython",
    "version": 3
   },
   "file_extension": ".py",
   "mimetype": "text/x-python",
   "name": "python",
   "nbconvert_exporter": "python",
   "pygments_lexer": "ipython3",
   "version": "3.8.3"
  }
 },
 "nbformat": 4,
 "nbformat_minor": 4
}
