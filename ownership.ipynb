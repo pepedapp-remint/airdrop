{
 "cells": [
  {
   "cell_type": "code",
   "execution_count": 1,
   "metadata": {},
   "outputs": [],
   "source": [
    "import pickle\n",
    "from ownership import *"
   ]
  },
  {
   "cell_type": "code",
   "execution_count": 3,
   "metadata": {},
   "outputs": [],
   "source": [
    "with open('data/tx_rows.p', 'rb') as f:\n",
    "    tx_rows = pickle.load(f)"
   ]
  },
  {
   "cell_type": "markdown",
   "metadata": {},
   "source": [
    "Let's try filtering on events instead of transactions. It's more straightforward to write a simulator for PepeDapp using *just* the CardsTransferred event!\n",
    "\n",
    "First, I'm going to compare the keccak hash used in topics[0] for the *first* PepeDapp tx to sanity check my mechanism for finding events."
   ]
  },
  {
   "cell_type": "code",
   "execution_count": 42,
   "metadata": {},
   "outputs": [
    {
     "data": {
      "text/plain": [
       "True"
      ]
     },
     "execution_count": 42,
     "metadata": {},
     "output_type": "execute_result"
    }
   ],
   "source": [
    "from Crypto.Hash import keccak\n",
    "keccak_hash = keccak.new(digest_bits=256)\n",
    "keccak_hash.update(b'CardCreated(bytes32,uint256)')\n",
    "test_val = keccak_hash.hexdigest()\n",
    "val_from_bq = '5ac4a187d29c4350cc4df530b82f63c563573f6a54125942974ca8c99e4bede9'\n",
    "test_val == val_from_bq"
   ]
  },
  {
   "cell_type": "code",
   "execution_count": 45,
   "metadata": {},
   "outputs": [
    {
     "data": {
      "text/plain": [
       "'0xca854e9a512debe5ebf4a5228b275f9d8c3c005f95ba3660d7a6a66fdc72b112'"
      ]
     },
     "execution_count": 45,
     "metadata": {},
     "output_type": "execute_result"
    }
   ],
   "source": [
    "cards_transferred_hash = keccak.new(digest_bits=256)\n",
    "cards_transferred_hash.update(b'CardsTransferred(bytes32,address,address,uint256)')\n",
    "'0x' + cards_transferred_hash.hexdigest()"
   ]
  },
  {
   "cell_type": "markdown",
   "metadata": {},
   "source": [
    "This is the value that I want to query with in the BigQuery event logs table. \n",
    "\n",
    "Querying done! Now, let's parse this data properly, particularly the other topics in each event log.\n",
    "\n",
    "Having looked at the logs manually, it looks like:\n",
    "- tx[1] == sig\n",
    "- tx[2] == fromAddr\n",
    "- tx[3] == toAddr\n",
    "- data == count (as hex str though)"
   ]
  },
  {
   "cell_type": "code",
   "execution_count": 34,
   "metadata": {},
   "outputs": [],
   "source": [
    "import json\n",
    "with open('data/events.json', 'r') as f:\n",
    "    logs_data = json.load(f)\n",
    "    \n",
    "transfers = []\n",
    "for log in logs_data:\n",
    "    sig = log['topics'][1]\n",
    "    from_addr = Web3.toChecksumAddress('0x' + log['topics'][2][26:])\n",
    "    to_addr = Web3.toChecksumAddress('0x' + log['topics'][3][26:])\n",
    "    count = int(log['data'], 0)\n",
    "    transfers.append(Transfer(sig, from_addr, to_addr, count))"
   ]
  },
  {
   "cell_type": "markdown",
   "metadata": {},
   "source": [
    "Ok, let's go back to creating the initial state. Don't need to keep track of sales anymore!"
   ]
  },
  {
   "cell_type": "code",
   "execution_count": 13,
   "metadata": {},
   "outputs": [],
   "source": [
    "sigs = get_all_sigs()\n",
    "ownership = {ADMIN_ADDRESS: {}}\n",
    "for sig in sigs:\n",
    "    count = get_sig_count(sig)\n",
    "    ownership[ADMIN_ADDRESS]['0x' + sig.hex()] = count\n",
    "INITIAL_STATE = PepeState(ownership)"
   ]
  },
  {
   "cell_type": "code",
   "execution_count": 40,
   "metadata": {},
   "outputs": [],
   "source": [
    "count = 0\n",
    "cur_state = INITIAL_STATE\n",
    "for transfer in transfers:\n",
    "    cur_state = process_transfer(cur_state, transfer)\n",
    "    count += 1"
   ]
  },
  {
   "cell_type": "markdown",
   "metadata": {},
   "source": [
    "Hells yes! Let's create a single CSV, sorted by (sig, address) of the ownership map:"
   ]
  },
  {
   "cell_type": "code",
   "execution_count": 53,
   "metadata": {},
   "outputs": [],
   "source": [
    "ownership_tuples = []\n",
    "for address, sig_to_count in cur_state.ownership.items():\n",
    "    for sig, count in sig_to_count.items():\n",
    "        if count > 0:\n",
    "            ownership_tuples.append((sig, address, count))\n",
    "ownership_tuples.sort()\n",
    "\n",
    "import csv\n",
    "with open('ownership.csv', 'w') as f:\n",
    "    writer = csv.writer(f)\n",
    "    for t in ownership_tuples:\n",
    "        writer.writerow(t)"
   ]
  },
  {
   "cell_type": "code",
   "execution_count": null,
   "metadata": {},
   "outputs": [],
   "source": []
  }
 ],
 "metadata": {
  "kernelspec": {
   "display_name": "pepe_airdrop",
   "language": "python",
   "name": "pepe_airdrop"
  },
  "language_info": {
   "codemirror_mode": {
    "name": "ipython",
    "version": 3
   },
   "file_extension": ".py",
   "mimetype": "text/x-python",
   "name": "python",
   "nbconvert_exporter": "python",
   "pygments_lexer": "ipython3",
   "version": "3.8.3"
  }
 },
 "nbformat": 4,
 "nbformat_minor": 4
}
