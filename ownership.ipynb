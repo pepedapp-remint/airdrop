{
 "cells": [
  {
   "cell_type": "code",
   "execution_count": 1,
   "metadata": {},
   "outputs": [],
   "source": [
    "import pickle\n",
    "from ownership import *"
   ]
  },
  {
   "cell_type": "code",
   "execution_count": 3,
   "metadata": {},
   "outputs": [],
   "source": [
    "with open('data/tx_rows.p', 'rb') as f:\n",
    "    tx_rows = pickle.load(f)"
   ]
  },
  {
   "cell_type": "markdown",
   "metadata": {},
   "source": [
    "Let's try filtering on events instead of transactions. It's more straightforward to write a simulator for PepeDapp using *just* the CardsTransferred event!\n",
    "\n",
    "First, I'm going to compare the keccak hash used in topics[0] for the *first* PepeDapp tx to sanity check my mechanism for finding events."
   ]
  },
  {
   "cell_type": "code",
   "execution_count": 42,
   "metadata": {},
   "outputs": [
    {
     "data": {
      "text/plain": [
       "True"
      ]
     },
     "execution_count": 42,
     "metadata": {},
     "output_type": "execute_result"
    }
   ],
   "source": [
    "from Crypto.Hash import keccak\n",
    "keccak_hash = keccak.new(digest_bits=256)\n",
    "keccak_hash.update(b'CardCreated(bytes32,uint256)')\n",
    "test_val = keccak_hash.hexdigest()\n",
    "val_from_bq = '5ac4a187d29c4350cc4df530b82f63c563573f6a54125942974ca8c99e4bede9'\n",
    "test_val == val_from_bq"
   ]
  },
  {
   "cell_type": "code",
   "execution_count": 45,
   "metadata": {
    "jupyter": {
     "source_hidden": true
    }
   },
   "outputs": [
    {
     "data": {
      "text/plain": [
       "'0xca854e9a512debe5ebf4a5228b275f9d8c3c005f95ba3660d7a6a66fdc72b112'"
      ]
     },
     "execution_count": 45,
     "metadata": {},
     "output_type": "execute_result"
    }
   ],
   "source": [
    "cards_transferred_hash = keccak.new(digest_bits=256)\n",
    "cards_transferred_hash.update(b'CardsTransferred(bytes32,address,address,uint256)')\n",
    "'0x' + cards_transferred_hash.hexdigest()"
   ]
  },
  {
   "cell_type": "markdown",
   "metadata": {},
   "source": [
    "This is the value that I want to query with in the BigQuery event logs table. \n",
    "\n",
    "Querying done! Now, let's parse this data properly, particularly the other topics in each event log.\n",
    "\n",
    "Having looked at the logs manually, it looks like:\n",
    "- tx[1] == sig\n",
    "- tx[2] == fromAddr\n",
    "- tx[3] == toAddr\n",
    "- data == count (as hex str though)"
   ]
  },
  {
   "cell_type": "code",
   "execution_count": 2,
   "metadata": {},
   "outputs": [],
   "source": [
    "import json\n",
    "with open('data/events.json', 'r') as f:\n",
    "    logs_data = json.load(f)\n",
    "    \n",
    "transfers = []\n",
    "for log in logs_data:\n",
    "    sig = log['topics'][1]\n",
    "    from_addr = Web3.toChecksumAddress('0x' + log['topics'][2][26:])\n",
    "    to_addr = Web3.toChecksumAddress('0x' + log['topics'][3][26:])\n",
    "    count = int(log['data'], 0)\n",
    "    transfers.append(Transfer(sig, from_addr, to_addr, count))"
   ]
  },
  {
   "cell_type": "markdown",
   "metadata": {},
   "source": [
    "Ok, let's go back to creating the initial state. Don't need to keep track of sales anymore!"
   ]
  },
  {
   "cell_type": "code",
   "execution_count": 3,
   "metadata": {},
   "outputs": [],
   "source": [
    "sigs = get_all_sigs()\n",
    "ownership = {ADMIN_ADDRESS: {}}\n",
    "for sig in sigs:\n",
    "    count = get_sig_count(sig)\n",
    "    ownership[ADMIN_ADDRESS]['0x' + sig.hex()] = count\n",
    "INITIAL_STATE = PepeState(ownership)"
   ]
  },
  {
   "cell_type": "code",
   "execution_count": 4,
   "metadata": {},
   "outputs": [],
   "source": [
    "count = 0\n",
    "cur_state = INITIAL_STATE\n",
    "for transfer in transfers:\n",
    "    cur_state = process_transfer(cur_state, transfer)\n",
    "    count += 1"
   ]
  },
  {
   "cell_type": "markdown",
   "metadata": {},
   "source": [
    "Hells yes! Let's create a single CSV, sorted by (sig, address) of the ownership map:"
   ]
  },
  {
   "cell_type": "code",
   "execution_count": 8,
   "metadata": {},
   "outputs": [
    {
     "data": {
      "text/plain": [
       "{'0x91781647437c48bc328f25d4c47b6f24cf8a46ab1b0f3c63704f9705178c0b5d': 4,\n",
       " '0x2fde0bc20c20a82166355cf1b6b78d01a4411d4794703642b04d3ec0232548ca': 26,\n",
       " '0xfa61d833ca2c8fc6f23aabbc18a23eef4e6313bc47446ecb06dbb148eefe349a': 1,\n",
       " '0x7f43c4e20a98081432b88599fcdbf9e2d8a3b7093515a473f828190a2d82e045': 9,\n",
       " '0x4fc4fd5e45256c6074fcfa6705c9f8f17cca4fbc2e334c238a245edecc09fabf': 6,\n",
       " '0x10c7871c5794b23562937b3b10abe535d5164acfee07d8109aec4af7bdd09d84': 12,\n",
       " '0x7a6f424e3883f69688aa191a08e0f8b03a2da963afe6a080337ee476b9c3589e': 0,\n",
       " '0x05788e5a6fae013209599b7899cfc89f5559641feb121b7a3e6cc3be2daf4068': 2,\n",
       " '0x89bb1be1fb0ea747de9e02f21ed76c98a2c1a83775fc0fd9acc0d5e302d2b1ac': 18,\n",
       " '0xaf63a02c558a3f5b3dda2a040b0bdc78b8ab0e36b58eba524b3d29c04a34583b': 1,\n",
       " '0xd8b90b8c24e203c4c18e162b98d52ba01155af03e8d20a612e8aec24f14c4fc6': 1,\n",
       " '0x6a5ce53aa652306b139b77b3a0de38c6b1cd0e43383d6bdafc8f4a063527feb4': 3,\n",
       " '0xba563cc12e6ca57a4041b3959367cb0b09924cd19646031fe44678b675e769b0': 1,\n",
       " '0x7b08aa4b59c690330631aadebb59d83fe8a66b97766920de16ac45910c6ba733': 1,\n",
       " '0xcccc4d6e704b77395b9ee4108631d2af41d1e8336c1242dc850333d1a18a978f': 1,\n",
       " '0x20c83c5b460e76df8591c89528c04d009ba45a2d59197f350c74953295f6c109': 2,\n",
       " '0xbd4d181cccd9ec7f70ef63d02a93f26765a790d8fee03b7ee682792e5cbf78b4': 4,\n",
       " '0x4ef7c56f860c0a7edb918c2cd692594ca391b747fbc2d2ec340d32511aaffefc': 4,\n",
       " '0xc99f67bd53dd2fb621858f780bdec8fe5793b20fc60f9a3df110b6d577fc01cf': 1,\n",
       " '0xba7469ba4efe2078a7cdae47444109b741678232a2ac9cb030f9bd39febb17da': 1,\n",
       " '0x3a39c5f35b3c05614cdf99eb7884e76ee362c521a5f41f6b56ce95e4f3b5ff8b': 1,\n",
       " '0xa431e8bd585950fb846d762b7dfdceb2827437d8afef1246bf92d272b6342977': 1,\n",
       " '0x5235eecbec0bdb8e08f664c5c5867b5193aece7577f35bb555f68834f9ea12ef': 0,\n",
       " '0x76f941a558c7330b19b557295d4eb56e38e5034b154918c08544137181348a86': 1,\n",
       " '0x06b6647fa668273ccbe34bae1de5821e6a20b80debb76a0a39a226d28980086c': 1,\n",
       " '0xdcbcb0d85c03db6b855e425fcb219f6435a041487939babb56a25a46afc56000': 0,\n",
       " '0xbdf6b4167de60f9da3fcaa3e08c249b92332b3ad33bd18e5365dbd4059e5bb90': 1,\n",
       " '0x8e87826417dbc05d8717bc1c33f7b45467ea5bf3111c1948f08abadd54da02dd': 1,\n",
       " '0x3181d4b9b8648f4d4163080398aab0f58744586db2f92b24c9917b74a8f7ece7': 1,\n",
       " '0xfb8ef8b25c4709925b9e1a81557e68cf11bb2eeae0cea89a9465c0e8983758c3': 1,\n",
       " '0xe25bf6639bb98ae53654cf0d389b756304f917b948ce28218cb14916a79db6e7': 1}"
      ]
     },
     "execution_count": 8,
     "metadata": {},
     "output_type": "execute_result"
    }
   ],
   "source": [
    "cur_state.ownership['0xcB46219bA114245c3A18761E4f7891f9C4BeF8c0']"
   ]
  },
  {
   "cell_type": "code",
   "execution_count": 11,
   "metadata": {},
   "outputs": [],
   "source": [
    "ownership_tuples = []\n",
    "for address, sig_to_count in cur_state.ownership.items():\n",
    "    for sig, count in sig_to_count.items():\n",
    "        if count > 0:\n",
    "            ownership_tuples.append((sig, address, count))\n",
    "ownership_tuples.sort()\n",
    "\n",
    "indexed_tuples = []\n",
    "index = 0\n",
    "for (sig, address, count) in ownership_tuples:\n",
    "    indexed_tuples.append((index, sig, address, count))\n",
    "    index += 1\n",
    "    \n",
    "import csv\n",
    "with open('data/ownership.csv', 'w') as f:\n",
    "    writer = csv.writer(f)\n",
    "    for t in indexed_tuples:\n",
    "        writer.writerow(t)"
   ]
  },
  {
   "cell_type": "code",
   "execution_count": null,
   "metadata": {},
   "outputs": [],
   "source": []
  }
 ],
 "metadata": {
  "kernelspec": {
   "display_name": "pepe_airdrop",
   "language": "python",
   "name": "pepe_airdrop"
  },
  "language_info": {
   "codemirror_mode": {
    "name": "ipython",
    "version": 3
   },
   "file_extension": ".py",
   "mimetype": "text/x-python",
   "name": "python",
   "nbconvert_exporter": "python",
   "pygments_lexer": "ipython3",
   "version": "3.8.3"
  }
 },
 "nbformat": 4,
 "nbformat_minor": 4
}
